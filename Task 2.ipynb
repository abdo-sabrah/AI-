{
 "cells": [
  {
   "cell_type": "code",
   "execution_count": 26,
   "id": "9eb68437",
   "metadata": {},
   "outputs": [
    {
     "name": "stdout",
     "output_type": "stream",
     "text": [
      "1519\n",
      "1554\n",
      "1589\n",
      "1624\n",
      "1659\n",
      "1694\n",
      "1729\n",
      "1764\n",
      "1799\n",
      "1834\n",
      "1869\n",
      "1904\n",
      "1939\n",
      "1974\n",
      "2009\n",
      "2044\n",
      "2079\n",
      "2114\n",
      "2149\n",
      "2184\n",
      "2219\n",
      "2254\n",
      "2289\n",
      "2324\n",
      "2359\n",
      "2394\n",
      "2429\n",
      "2464\n",
      "2499\n",
      "2534\n",
      "2569\n",
      "2604\n",
      "2639\n",
      "2674\n"
     ]
    }
   ],
   "source": [
    "#1\n",
    "for i in range (1499,2699,5):\n",
    "    if (i%7==0):\n",
    "        \n",
    "        print (i) "
   ]
  },
  {
   "cell_type": "code",
   "execution_count": 1,
   "id": "ff221d5c",
   "metadata": {},
   "outputs": [],
   "source": [
    "#2\n",
    "def Isfahrenheit():\n",
    "    print ( \"is your numb Celsius OR Fahrenheit\")\n",
    "    kind = input () \n",
    "    if kind == \"Fahrenheit\" :\n",
    "        return True\n",
    "    else:\n",
    "        return False\n",
    "     \n"
   ]
  },
  {
   "cell_type": "code",
   "execution_count": 107,
   "id": "05092b1e",
   "metadata": {},
   "outputs": [
    {
     "name": "stdout",
     "output_type": "stream",
     "text": [
      "is your numb Celsius OR Fahrenheit\n",
      " Fahrenheit\n",
      "please enter your num\n",
      "20\n",
      "your number after convert is =68.0\n"
     ]
    }
   ],
   "source": [
    "\n",
    "\n",
    "    if Isfahrenheit() : \n",
    "        print(\"please enter your num\")\n",
    "        num = float(input())\n",
    "        sum =  ( (num-32) * 5 ) /9\n",
    "        print (\"your number after convert is \" + str (sum))\n",
    "       \n",
    "    else:\n",
    "        print(\"please enter your num\")\n",
    "        num = float(input())\n",
    "        sum = (num*9) /5 +32 \n",
    "        print (\"your number after convert is =\" + str(sum))\n",
    "\n",
    " \n"
   ]
  },
  {
   "cell_type": "code",
   "execution_count": 2,
   "id": "0c849669",
   "metadata": {},
   "outputs": [
    {
     "name": "stdout",
     "output_type": "stream",
     "text": [
      "\n",
      "*\n",
      "**\n",
      "***\n",
      "****\n",
      "*****\n",
      "******\n",
      "*****\n",
      "****\n",
      "***\n",
      "**\n",
      "*\n"
     ]
    }
   ],
   "source": [
    "#3\n",
    "\n",
    "for i in range(6) :   \n",
    "    \n",
    "    for x in range (i):\n",
    "        print(\"*\",end=\"\")\n",
    "    print()\n",
    "for i in range(6) :   \n",
    "    \n",
    "    for x in range (i,6):\n",
    "        print(\"*\",end=\"\")\n",
    "    print()"
   ]
  },
  {
   "cell_type": "code",
   "execution_count": 3,
   "id": "7b15e50c",
   "metadata": {},
   "outputs": [
    {
     "name": "stdout",
     "output_type": "stream",
     "text": [
      "please enter a name\n",
      "ahmed\n",
      "demha"
     ]
    }
   ],
   "source": [
    "#4\n",
    "print (\"please enter a name\")\n",
    "name= input()\n",
    "for i in range (len(name)-1 ,-1, -1 ):\n",
    "    print(name[i],end=\"\")"
   ]
  },
  {
   "cell_type": "code",
   "execution_count": null,
   "id": "c779d7da",
   "metadata": {},
   "outputs": [],
   "source": [
    "#5\n",
    "def findmax (x ,y ,z):\n",
    "    max=0\n",
    "    if(x >=y) and (x>=z) :\n",
    "         maxnum =x\n",
    "    elif(y>=x) and( y >= z):\n",
    "        maxnum=y\n",
    "    else:\n",
    "        maxnum=z\n",
    "    return maxnum\n",
    "x = 1661\n",
    "y = 42564\n",
    "z = 54354\n",
    "print(findmax(x, y, z))"
   ]
  },
  {
   "cell_type": "code",
   "execution_count": null,
   "id": "d437bea8",
   "metadata": {},
   "outputs": [],
   "source": [
    "#6\n",
    "def sum_all (num):\n",
    "    total=0\n",
    "    for i in num :\n",
    "        total+=i\n",
    "    return total\n",
    "print(sum_all([10,20,30]))"
   ]
  },
  {
   "cell_type": "code",
   "execution_count": null,
   "id": "89584426",
   "metadata": {},
   "outputs": [],
   "source": [
    "#7\n",
    "for i in range (0,6) :\n",
    "    if i == 3 :\n",
    "        continue\n",
    "    print(i)\n"
   ]
  },
  {
   "cell_type": "code",
   "execution_count": 32,
   "id": "75f3994e",
   "metadata": {},
   "outputs": [
    {
     "ename": "TypeError",
     "evalue": "'str' object is not callable",
     "output_type": "error",
     "traceback": [
      "\u001b[1;31m---------------------------------------------------------------------------\u001b[0m",
      "\u001b[1;31mTypeError\u001b[0m                                 Traceback (most recent call last)",
      "Input \u001b[1;32mIn [32]\u001b[0m, in \u001b[0;36m<cell line: 7>\u001b[1;34m()\u001b[0m\n\u001b[0;32m      5\u001b[0m         fact\u001b[38;5;241m=\u001b[39m fact\u001b[38;5;241m*\u001b[39mi\n\u001b[0;32m      6\u001b[0m     \u001b[38;5;28;01mreturn\u001b[39;00m fact\n\u001b[1;32m----> 7\u001b[0m \u001b[38;5;28;43mprint\u001b[39;49m\u001b[43m \u001b[49m\u001b[43m(\u001b[49m\u001b[38;5;124;43m\"\u001b[39;49m\u001b[38;5;124;43menter number\u001b[39;49m\u001b[38;5;124;43m\"\u001b[39;49m\u001b[43m)\u001b[49m\n\u001b[0;32m      8\u001b[0m x\u001b[38;5;241m=\u001b[39m\u001b[38;5;28mint\u001b[39m(\u001b[38;5;28minput\u001b[39m())\n\u001b[0;32m      9\u001b[0m \u001b[38;5;28;01mif\u001b[39;00m x \u001b[38;5;241m<\u001b[39m\u001b[38;5;241m=\u001b[39m \u001b[38;5;241m0\u001b[39m :\n",
      "\u001b[1;31mTypeError\u001b[0m: 'str' object is not callable"
     ]
    }
   ],
   "source": [
    "#8\n",
    "def factorial(num):\n",
    "    fact=1\n",
    "    for i in range(1 , num+1):\n",
    "        fact= fact*i\n",
    "    return fact\n",
    "print (\"enter number\")\n",
    "x=int(input())\n",
    "if x <= 0 :\n",
    "    print(\"Wrong input\")\n",
    "print(factorial(x))\n",
    "    "
   ]
  },
  {
   "cell_type": "code",
   "execution_count": 30,
   "id": "2cbb4140",
   "metadata": {},
   "outputs": [
    {
     "ename": "TypeError",
     "evalue": "'str' object is not callable",
     "output_type": "error",
     "traceback": [
      "\u001b[1;31m---------------------------------------------------------------------------\u001b[0m",
      "\u001b[1;31mTypeError\u001b[0m                                 Traceback (most recent call last)",
      "Input \u001b[1;32mIn [30]\u001b[0m, in \u001b[0;36m<cell line: 8>\u001b[1;34m()\u001b[0m\n\u001b[0;32m      6\u001b[0m             ul\u001b[38;5;241m.\u001b[39mappend(i)\n\u001b[0;32m      7\u001b[0m     \u001b[38;5;28;01mreturn\u001b[39;00m ul\n\u001b[1;32m----> 8\u001b[0m \u001b[38;5;28;43mprint\u001b[39;49m\u001b[43m \u001b[49m\u001b[43m(\u001b[49m\u001b[43munique_elements\u001b[49m\u001b[43m \u001b[49m\u001b[43m(\u001b[49m\u001b[43m[\u001b[49m\u001b[38;5;241;43m15\u001b[39;49m\u001b[43m,\u001b[49m\u001b[38;5;241;43m20\u001b[39;49m\u001b[43m,\u001b[49m\u001b[38;5;241;43m20\u001b[39;49m\u001b[43m,\u001b[49m\u001b[38;5;241;43m15\u001b[39;49m\u001b[43m,\u001b[49m\u001b[38;5;241;43m13\u001b[39;49m\u001b[43m,\u001b[49m\u001b[38;5;241;43m14\u001b[39;49m\u001b[43m,\u001b[49m\u001b[38;5;241;43m13\u001b[39;49m\u001b[43m]\u001b[49m\u001b[43m)\u001b[49m\u001b[43m)\u001b[49m\n",
      "\u001b[1;31mTypeError\u001b[0m: 'str' object is not callable"
     ]
    }
   ],
   "source": [
    "#9\n",
    "def unique_elements (l) :\n",
    "    ul = []\n",
    "    for i in l :\n",
    "        if i not in ul :\n",
    "            ul.append(i)\n",
    "    return ul\n",
    "print (unique_elements ([15,20,20,15,13,14,13]))\n",
    "    \n"
   ]
  },
  {
   "cell_type": "code",
   "execution_count": 37,
   "id": "b3de2e0f",
   "metadata": {},
   "outputs": [
    {
     "ename": "TypeError",
     "evalue": "'str' object is not callable",
     "output_type": "error",
     "traceback": [
      "\u001b[1;31m---------------------------------------------------------------------------\u001b[0m",
      "\u001b[1;31mTypeError\u001b[0m                                 Traceback (most recent call last)",
      "Input \u001b[1;32mIn [37]\u001b[0m, in \u001b[0;36m<cell line: 4>\u001b[1;34m()\u001b[0m\n\u001b[0;32m      2\u001b[0m add15 \u001b[38;5;241m=\u001b[39m \u001b[38;5;28;01mlambda\u001b[39;00m num : num \u001b[38;5;241m+\u001b[39m \u001b[38;5;241m15\u001b[39m\n\u001b[0;32m      3\u001b[0m multiply \u001b[38;5;241m=\u001b[39m \u001b[38;5;28;01mlambda\u001b[39;00m x,y:  x \u001b[38;5;241m*\u001b[39m y\n\u001b[1;32m----> 4\u001b[0m \u001b[38;5;28;43mprint\u001b[39;49m\u001b[43m \u001b[49m\u001b[43m(\u001b[49m\u001b[43madd15\u001b[49m\u001b[43m(\u001b[49m\u001b[38;5;241;43m10\u001b[39;49m\u001b[43m)\u001b[49m\u001b[43m)\u001b[49m\n\u001b[0;32m      5\u001b[0m \u001b[38;5;28mprint\u001b[39m(multiply(\u001b[38;5;241m9\u001b[39m,\u001b[38;5;241m10\u001b[39m))\n",
      "\u001b[1;31mTypeError\u001b[0m: 'str' object is not callable"
     ]
    }
   ],
   "source": [
    "#10\n",
    "add15 = lambda num : num + 15\n",
    "multiply = lambda x,y:  x * y\n",
    "print (add15(10))\n",
    "print(multiply(9,10)) \n",
    " "
   ]
  },
  {
   "cell_type": "code",
   "execution_count": 35,
   "id": "f068be7c",
   "metadata": {},
   "outputs": [
    {
     "ename": "TypeError",
     "evalue": "'str' object is not callable",
     "output_type": "error",
     "traceback": [
      "\u001b[1;31m---------------------------------------------------------------------------\u001b[0m",
      "\u001b[1;31mTypeError\u001b[0m                                 Traceback (most recent call last)",
      "Input \u001b[1;32mIn [35]\u001b[0m, in \u001b[0;36m<cell line: 2>\u001b[1;34m()\u001b[0m\n\u001b[0;32m      1\u001b[0m r \u001b[38;5;241m=\u001b[39m \u001b[38;5;28;01mlambda\u001b[39;00m a : a \u001b[38;5;241m+\u001b[39m \u001b[38;5;241m15\u001b[39m\n\u001b[1;32m----> 2\u001b[0m \u001b[38;5;28;43mprint\u001b[39;49m\u001b[43m(\u001b[49m\u001b[43mr\u001b[49m\u001b[43m(\u001b[49m\u001b[38;5;241;43m10\u001b[39;49m\u001b[43m)\u001b[49m\u001b[43m)\u001b[49m\n\u001b[0;32m      3\u001b[0m r \u001b[38;5;241m=\u001b[39m \u001b[38;5;28;01mlambda\u001b[39;00m x, y : x \u001b[38;5;241m*\u001b[39m y\n\u001b[0;32m      4\u001b[0m \u001b[38;5;28mprint\u001b[39m(r(\u001b[38;5;241m12\u001b[39m, \u001b[38;5;241m4\u001b[39m))\n",
      "\u001b[1;31mTypeError\u001b[0m: 'str' object is not callable"
     ]
    }
   ],
   "source": [
    "\n",
    "r = lambda a : a + 15\n",
    "print(r(10))\n",
    "r = lambda x, y : x * y\n",
    "print(r(12, 4))\n",
    "Sample Output:"
   ]
  },
  {
   "cell_type": "code",
   "execution_count": null,
   "id": "d41edb17",
   "metadata": {},
   "outputs": [],
   "source": []
  }
 ],
 "metadata": {
  "kernelspec": {
   "display_name": "Python 3 (ipykernel)",
   "language": "python",
   "name": "python3"
  },
  "language_info": {
   "codemirror_mode": {
    "name": "ipython",
    "version": 3
   },
   "file_extension": ".py",
   "mimetype": "text/x-python",
   "name": "python",
   "nbconvert_exporter": "python",
   "pygments_lexer": "ipython3",
   "version": "3.9.12"
  }
 },
 "nbformat": 4,
 "nbformat_minor": 5
}
